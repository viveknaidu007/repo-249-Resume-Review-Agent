{
 "cells": [
  {
   "cell_type": "markdown",
   "metadata": {
    "vscode": {
     "languageId": "plaintext"
    }
   },
   "source": [
    "# frontend "
   ]
  },
  {
   "cell_type": "code",
   "execution_count": null,
   "metadata": {
    "vscode": {
     "languageId": "plaintext"
    }
   },
   "outputs": [],
   "source": [
    "npx create-vite@latest\n",
    "\n",
    "cd frontend\n",
    "npm i\n",
    "npm run dev"
   ]
  },
  {
   "cell_type": "markdown",
   "metadata": {},
   "source": [
    "# backend"
   ]
  },
  {
   "cell_type": "code",
   "execution_count": null,
   "metadata": {
    "vscode": {
     "languageId": "plaintext"
    }
   },
   "outputs": [],
   "source": [
    "\n",
    "uvicorn main:app --reload\n",
    "\n",
    "python main.py"
   ]
  },
  {
   "cell_type": "code",
   "execution_count": null,
   "metadata": {
    "vscode": {
     "languageId": "plaintext"
    }
   },
   "outputs": [],
   "source": [
    "optiionaly :\n",
    "for using langchain -\n",
    "\n",
    "#\n",
    "groq>=0.4.1          # Compatible with langchain-groq\n",
    "langchain-groq==0.1.10  # Latest version as of recent updates\n",
    "\n",
    "#resume_analyzer.py\n",
    "from groq import Groq\n",
    "from langchain_groq import ChatGroq\n",
    "from langchain.prompts import PromptTemplate\n",
    "from langchain.chains import LLMChain\n",
    "import json\n",
    "\n",
    "class ResumeAnalyzer:\n",
    "    def __init__(self):\n",
    "        # Initialize Groq client with your API key\n",
    "        self.client = Groq(api_key=\"YOUR_GROQ_API_KEY\")\n",
    "        # Initialize LangChain's ChatGroq model\n",
    "        self.llm = ChatGroq(\n",
    "            groq_api_key=\"YOUR_GROQ_API_KEY\",\n",
    "            model_name=\"mixtral-8x7b-32768\",\n",
    "            max_tokens=1000\n",
    "        )\n",
    "\n",
    "    def analyze_resume(self, resume_text: str) -> dict:\n",
    "        # Define a structured prompt using LangChain's PromptTemplate\n",
    "        prompt_template = PromptTemplate(\n",
    "            input_variables=[\"resume\"],\n",
    "            template=\"\"\"\n",
    "            You are a career coach. Analyze the following resume and provide:\n",
    "            1. Personalized feedback on strengths and areas for improvement.\n",
    "            2. Next steps for career growth.\n",
    "            3. Specific advice to navigate their career path.\n",
    "            \n",
    "            Resume:\n",
    "            {resume}\n",
    "            \n",
    "            Return the response in JSON format with keys: 'feedback', 'next_steps', 'advice'.\n",
    "            Ensure the response is a valid JSON string.\n",
    "            \"\"\"\n",
    "        )\n",
    "\n",
    "        # Create a chain with the LLM and prompt\n",
    "        chain = LLMChain(llm=self.llm, prompt=prompt_template)\n",
    "\n",
    "        # Run the chain with the resume text\n",
    "        raw_output = chain.run(resume=resume_text)\n",
    "        print(\"Raw output from LangChain:\", raw_output)  # Debug\n",
    "\n",
    "        # Parse the response as JSON\n",
    "        try:\n",
    "            result = json.loads(raw_output)\n",
    "            # Validate the structure\n",
    "            if not all(key in result for key in [\"feedback\", \"next_steps\", \"advice\"]):\n",
    "                raise ValueError(\"Missing required keys in response\")\n",
    "            if not isinstance(result[\"next_steps\"], list) or not isinstance(result[\"advice\"], list):\n",
    "                raise ValueError(\"next_steps and advice must be lists\")\n",
    "        except (json.JSONDecodeError, ValueError) as e:\n",
    "            print(f\"Error parsing response: {e}\")\n",
    "            # Fallback response\n",
    "            result = {\n",
    "                \"feedback\": \"Your resume shows strong technical skills, but consider adding more quantifiable achievements.\",\n",
    "                \"next_steps\": [\n",
    "                    \"Update your resume with recent projects.\",\n",
    "                    \"Pursue a certification in a trending technology.\"\n",
    "                ],\n",
    "                \"advice\": [\n",
    "                    \"Network with professionals in your field.\",\n",
    "                    \"Explore roles in emerging industries like AI or cloud computing.\"\n",
    "                ]\n",
    "            }\n",
    "\n",
    "        return result\n",
    "\n"
   ]
  }
 ],
 "metadata": {
  "language_info": {
   "name": "python"
  }
 },
 "nbformat": 4,
 "nbformat_minor": 2
}
